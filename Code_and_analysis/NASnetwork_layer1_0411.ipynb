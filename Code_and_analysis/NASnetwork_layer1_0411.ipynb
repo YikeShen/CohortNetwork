{
 "cells": [
  {
   "cell_type": "code",
   "execution_count": 1,
   "id": "f17060f7",
   "metadata": {},
   "outputs": [],
   "source": [
    "import pandas as pd\n",
    "import numpy as np\n",
    "from collections import Counter,defaultdict\n",
    "import networkx as nx"
   ]
  },
  {
   "cell_type": "code",
   "execution_count": 2,
   "id": "c0d658db",
   "metadata": {},
   "outputs": [],
   "source": [
    "data = pd.read_csv('NAS_processed_032523.csv')"
   ]
  },
  {
   "cell_type": "code",
   "execution_count": 3,
   "id": "21f989da",
   "metadata": {},
   "outputs": [],
   "source": [
    "publications = data['Publication_Title']"
   ]
  },
  {
   "cell_type": "code",
   "execution_count": 4,
   "id": "5cfcdb02",
   "metadata": {},
   "outputs": [],
   "source": [
    "publications_list = []\n",
    "\n",
    "for v in publications:\n",
    "    try:\n",
    "        if float(v):\n",
    "            publications_list.append(temp)\n",
    "    except:\n",
    "        temp = v\n",
    "        publications_list.append(v)"
   ]
  },
  {
   "cell_type": "code",
   "execution_count": 5,
   "id": "b3fd9a95",
   "metadata": {},
   "outputs": [],
   "source": [
    "publications_list_cap = []\n",
    "for v in publications_list:\n",
    "    first = v[0]\n",
    "    publications_list_cap.append(first.upper()+v[1:])"
   ]
  },
  {
   "cell_type": "code",
   "execution_count": 6,
   "id": "c9962fc6",
   "metadata": {},
   "outputs": [],
   "source": [
    "#publications_list"
   ]
  },
  {
   "cell_type": "code",
   "execution_count": 7,
   "id": "f58f4128",
   "metadata": {},
   "outputs": [
    {
     "data": {
      "text/plain": [
       "428"
      ]
     },
     "execution_count": 7,
     "metadata": {},
     "output_type": "execute_result"
    }
   ],
   "source": [
    "len(publications_list)"
   ]
  },
  {
   "cell_type": "code",
   "execution_count": 8,
   "id": "be671ecd",
   "metadata": {},
   "outputs": [
    {
     "data": {
      "text/plain": [
       "121"
      ]
     },
     "execution_count": 8,
     "metadata": {},
     "output_type": "execute_result"
    }
   ],
   "source": [
    "len(set(publications_list))"
   ]
  },
  {
   "cell_type": "code",
   "execution_count": 9,
   "id": "9939113e",
   "metadata": {},
   "outputs": [],
   "source": [
    "Exposure_Layer1 = data['Exposure_Layer1']"
   ]
  },
  {
   "cell_type": "code",
   "execution_count": 10,
   "id": "a2ca7d1b",
   "metadata": {},
   "outputs": [],
   "source": [
    "Outcome_Layer1 = data['Outcome_Layer1']"
   ]
  },
  {
   "cell_type": "code",
   "execution_count": 11,
   "id": "364ad3ef",
   "metadata": {},
   "outputs": [],
   "source": [
    "hierach1 = defaultdict(set)\n",
    "edge2publication = defaultdict(list)\n",
    "for i,v in enumerate(Exposure_Layer1):\n",
    "    hierach1[v].add(Outcome_Layer1[i])\n",
    "    edge2publication[(v,Outcome_Layer1[i])].append(publications_list_cap[i])"
   ]
  },
  {
   "cell_type": "code",
   "execution_count": 12,
   "id": "c019df36",
   "metadata": {},
   "outputs": [],
   "source": [
    "#hierach1"
   ]
  },
  {
   "cell_type": "code",
   "execution_count": 13,
   "id": "9ee0a455",
   "metadata": {
    "scrolled": true
   },
   "outputs": [],
   "source": [
    "#edge2publication"
   ]
  },
  {
   "cell_type": "code",
   "execution_count": 14,
   "id": "fa8110d6",
   "metadata": {},
   "outputs": [],
   "source": [
    "intersection = set(Exposure_Layer1).intersection(set(Outcome_Layer1))"
   ]
  },
  {
   "cell_type": "code",
   "execution_count": 15,
   "id": "e83535eb",
   "metadata": {},
   "outputs": [
    {
     "data": {
      "text/plain": [
       "{'biomarker', 'disease', 'psychosocial'}"
      ]
     },
     "execution_count": 15,
     "metadata": {},
     "output_type": "execute_result"
    }
   ],
   "source": [
    "hierach1['biomarker']"
   ]
  },
  {
   "cell_type": "code",
   "execution_count": 16,
   "id": "600384af",
   "metadata": {},
   "outputs": [
    {
     "data": {
      "text/plain": [
       "['behavior', 'biomarker', 'chemical', 'disease', 'physical', 'psychosocial']"
      ]
     },
     "execution_count": 16,
     "metadata": {},
     "output_type": "execute_result"
    }
   ],
   "source": [
    "sorted(hierach1.keys())"
   ]
  },
  {
   "cell_type": "code",
   "execution_count": 17,
   "id": "df0e5acf",
   "metadata": {},
   "outputs": [],
   "source": [
    "exposures_l3 = []\n",
    "outcomes_l3 = []\n",
    "exposure_cate = []\n",
    "outcome_cate = []\n",
    "edge_id2pub = dict()\n",
    "i = 1\n",
    "for k in sorted(hierach1.keys()): ########\n",
    "    for v in sorted(hierach1[k]): ######031623\n",
    "        exposures_l3.append(k)\n",
    "        outcomes_l3.append(v)\n",
    "        edge_id2pub[i] = edge2publication[(k,v)]\n",
    "        i+=1\n",
    "        if k not in intersection:\n",
    "            exposure_cate.append('exposures')\n",
    "        else:\n",
    "            exposure_cate.append('both')\n",
    "        if v not in intersection:\n",
    "            outcome_cate.append('outcomes')\n",
    "        else:\n",
    "            outcome_cate.append('both')"
   ]
  },
  {
   "cell_type": "code",
   "execution_count": 18,
   "id": "3ede6a81",
   "metadata": {},
   "outputs": [],
   "source": [
    "#edge_id2pub"
   ]
  },
  {
   "cell_type": "code",
   "execution_count": 19,
   "id": "5d960f87",
   "metadata": {},
   "outputs": [],
   "source": [
    "edge_id_c = max(edge_id2pub.keys())+1"
   ]
  },
  {
   "cell_type": "code",
   "execution_count": 20,
   "id": "cf801447",
   "metadata": {},
   "outputs": [],
   "source": [
    "edge_id = np.arange(1,edge_id_c).tolist()"
   ]
  },
  {
   "cell_type": "code",
   "execution_count": 21,
   "id": "476a9247",
   "metadata": {},
   "outputs": [],
   "source": [
    "layer1_dataframe = pd.DataFrame(list(zip(exposures_l3, outcomes_l3,edge_id,exposure_cate,outcome_cate)),columns =['Exposures', 'Outcomes','edge_id','exposure_cate','outcome_cate'])"
   ]
  },
  {
   "cell_type": "code",
   "execution_count": 22,
   "id": "5b33582c",
   "metadata": {
    "scrolled": false
   },
   "outputs": [
    {
     "data": {
      "text/html": [
       "<div>\n",
       "<style scoped>\n",
       "    .dataframe tbody tr th:only-of-type {\n",
       "        vertical-align: middle;\n",
       "    }\n",
       "\n",
       "    .dataframe tbody tr th {\n",
       "        vertical-align: top;\n",
       "    }\n",
       "\n",
       "    .dataframe thead th {\n",
       "        text-align: right;\n",
       "    }\n",
       "</style>\n",
       "<table border=\"1\" class=\"dataframe\">\n",
       "  <thead>\n",
       "    <tr style=\"text-align: right;\">\n",
       "      <th></th>\n",
       "      <th>Exposures</th>\n",
       "      <th>Outcomes</th>\n",
       "      <th>edge_id</th>\n",
       "      <th>exposure_cate</th>\n",
       "      <th>outcome_cate</th>\n",
       "    </tr>\n",
       "  </thead>\n",
       "  <tbody>\n",
       "    <tr>\n",
       "      <th>0</th>\n",
       "      <td>behavior</td>\n",
       "      <td>biomarker</td>\n",
       "      <td>1</td>\n",
       "      <td>exposures</td>\n",
       "      <td>both</td>\n",
       "    </tr>\n",
       "    <tr>\n",
       "      <th>1</th>\n",
       "      <td>behavior</td>\n",
       "      <td>disease</td>\n",
       "      <td>2</td>\n",
       "      <td>exposures</td>\n",
       "      <td>both</td>\n",
       "    </tr>\n",
       "    <tr>\n",
       "      <th>2</th>\n",
       "      <td>biomarker</td>\n",
       "      <td>biomarker</td>\n",
       "      <td>3</td>\n",
       "      <td>both</td>\n",
       "      <td>both</td>\n",
       "    </tr>\n",
       "    <tr>\n",
       "      <th>3</th>\n",
       "      <td>biomarker</td>\n",
       "      <td>disease</td>\n",
       "      <td>4</td>\n",
       "      <td>both</td>\n",
       "      <td>both</td>\n",
       "    </tr>\n",
       "    <tr>\n",
       "      <th>4</th>\n",
       "      <td>biomarker</td>\n",
       "      <td>psychosocial</td>\n",
       "      <td>5</td>\n",
       "      <td>both</td>\n",
       "      <td>both</td>\n",
       "    </tr>\n",
       "    <tr>\n",
       "      <th>5</th>\n",
       "      <td>chemical</td>\n",
       "      <td>biomarker</td>\n",
       "      <td>6</td>\n",
       "      <td>both</td>\n",
       "      <td>both</td>\n",
       "    </tr>\n",
       "    <tr>\n",
       "      <th>6</th>\n",
       "      <td>chemical</td>\n",
       "      <td>disease</td>\n",
       "      <td>7</td>\n",
       "      <td>both</td>\n",
       "      <td>both</td>\n",
       "    </tr>\n",
       "    <tr>\n",
       "      <th>7</th>\n",
       "      <td>chemical</td>\n",
       "      <td>psychosocial</td>\n",
       "      <td>8</td>\n",
       "      <td>both</td>\n",
       "      <td>both</td>\n",
       "    </tr>\n",
       "    <tr>\n",
       "      <th>8</th>\n",
       "      <td>disease</td>\n",
       "      <td>biomarker</td>\n",
       "      <td>9</td>\n",
       "      <td>both</td>\n",
       "      <td>both</td>\n",
       "    </tr>\n",
       "    <tr>\n",
       "      <th>9</th>\n",
       "      <td>physical</td>\n",
       "      <td>biomarker</td>\n",
       "      <td>10</td>\n",
       "      <td>exposures</td>\n",
       "      <td>both</td>\n",
       "    </tr>\n",
       "    <tr>\n",
       "      <th>10</th>\n",
       "      <td>physical</td>\n",
       "      <td>chemical</td>\n",
       "      <td>11</td>\n",
       "      <td>exposures</td>\n",
       "      <td>both</td>\n",
       "    </tr>\n",
       "    <tr>\n",
       "      <th>11</th>\n",
       "      <td>psychosocial</td>\n",
       "      <td>biomarker</td>\n",
       "      <td>12</td>\n",
       "      <td>both</td>\n",
       "      <td>both</td>\n",
       "    </tr>\n",
       "    <tr>\n",
       "      <th>12</th>\n",
       "      <td>psychosocial</td>\n",
       "      <td>disease</td>\n",
       "      <td>13</td>\n",
       "      <td>both</td>\n",
       "      <td>both</td>\n",
       "    </tr>\n",
       "    <tr>\n",
       "      <th>13</th>\n",
       "      <td>psychosocial</td>\n",
       "      <td>psychosocial</td>\n",
       "      <td>14</td>\n",
       "      <td>both</td>\n",
       "      <td>both</td>\n",
       "    </tr>\n",
       "  </tbody>\n",
       "</table>\n",
       "</div>"
      ],
      "text/plain": [
       "       Exposures      Outcomes  edge_id exposure_cate outcome_cate\n",
       "0       behavior     biomarker        1     exposures         both\n",
       "1       behavior       disease        2     exposures         both\n",
       "2      biomarker     biomarker        3          both         both\n",
       "3      biomarker       disease        4          both         both\n",
       "4      biomarker  psychosocial        5          both         both\n",
       "5       chemical     biomarker        6          both         both\n",
       "6       chemical       disease        7          both         both\n",
       "7       chemical  psychosocial        8          both         both\n",
       "8        disease     biomarker        9          both         both\n",
       "9       physical     biomarker       10     exposures         both\n",
       "10      physical      chemical       11     exposures         both\n",
       "11  psychosocial     biomarker       12          both         both\n",
       "12  psychosocial       disease       13          both         both\n",
       "13  psychosocial  psychosocial       14          both         both"
      ]
     },
     "execution_count": 22,
     "metadata": {},
     "output_type": "execute_result"
    }
   ],
   "source": [
    "layer1_dataframe"
   ]
  },
  {
   "cell_type": "code",
   "execution_count": 23,
   "id": "d9957ec6",
   "metadata": {},
   "outputs": [],
   "source": [
    "pd.DataFrame.to_csv(layer1_dataframe,'processed_graph_layer1_0325.csv')"
   ]
  },
  {
   "cell_type": "code",
   "execution_count": 24,
   "id": "67879538",
   "metadata": {},
   "outputs": [],
   "source": [
    "edg_list = []\n",
    "pub_list = []\n",
    "for k in range(1,edge_id_c):\n",
    "    for v in set(edge_id2pub[k]):\n",
    "        edg_list.append(k)\n",
    "        pub_list.append(v)"
   ]
  },
  {
   "cell_type": "code",
   "execution_count": 25,
   "id": "29086d55",
   "metadata": {},
   "outputs": [
    {
     "data": {
      "text/plain": [
       "133"
      ]
     },
     "execution_count": 25,
     "metadata": {},
     "output_type": "execute_result"
    }
   ],
   "source": [
    "len(edg_list)"
   ]
  },
  {
   "cell_type": "code",
   "execution_count": 26,
   "id": "e84a1b79",
   "metadata": {},
   "outputs": [],
   "source": [
    "#edg_list"
   ]
  },
  {
   "cell_type": "code",
   "execution_count": 27,
   "id": "b501d108",
   "metadata": {},
   "outputs": [],
   "source": [
    "#pub_list"
   ]
  },
  {
   "cell_type": "code",
   "execution_count": 28,
   "id": "a116b16d",
   "metadata": {},
   "outputs": [
    {
     "data": {
      "text/plain": [
       "121"
      ]
     },
     "execution_count": 28,
     "metadata": {},
     "output_type": "execute_result"
    }
   ],
   "source": [
    "len(set(pub_list))"
   ]
  },
  {
   "cell_type": "code",
   "execution_count": 29,
   "id": "7087f587",
   "metadata": {},
   "outputs": [],
   "source": [
    "layer1_publist = pd.DataFrame(list(zip(edg_list, pub_list)),columns =['Edge Id', 'Publication'])"
   ]
  },
  {
   "cell_type": "code",
   "execution_count": 30,
   "id": "c61bec45",
   "metadata": {},
   "outputs": [
    {
     "data": {
      "text/html": [
       "<div>\n",
       "<style scoped>\n",
       "    .dataframe tbody tr th:only-of-type {\n",
       "        vertical-align: middle;\n",
       "    }\n",
       "\n",
       "    .dataframe tbody tr th {\n",
       "        vertical-align: top;\n",
       "    }\n",
       "\n",
       "    .dataframe thead th {\n",
       "        text-align: right;\n",
       "    }\n",
       "</style>\n",
       "<table border=\"1\" class=\"dataframe\">\n",
       "  <thead>\n",
       "    <tr style=\"text-align: right;\">\n",
       "      <th></th>\n",
       "      <th>Edge Id</th>\n",
       "      <th>Publication</th>\n",
       "    </tr>\n",
       "  </thead>\n",
       "  <tbody>\n",
       "    <tr>\n",
       "      <th>0</th>\n",
       "      <td>1</td>\n",
       "      <td>Smoking-related DNA methylation is associated ...</td>\n",
       "    </tr>\n",
       "    <tr>\n",
       "      <th>1</th>\n",
       "      <td>1</td>\n",
       "      <td>Lifestyle change and high-density lipoprotein ...</td>\n",
       "    </tr>\n",
       "    <tr>\n",
       "      <th>2</th>\n",
       "      <td>1</td>\n",
       "      <td>Dietary anthocyanin intake and age-related dec...</td>\n",
       "    </tr>\n",
       "    <tr>\n",
       "      <th>3</th>\n",
       "      <td>1</td>\n",
       "      <td>A western diet pattern is associated with high...</td>\n",
       "    </tr>\n",
       "    <tr>\n",
       "      <th>4</th>\n",
       "      <td>1</td>\n",
       "      <td>Self-reported sleep and beta-amyloid depositio...</td>\n",
       "    </tr>\n",
       "    <tr>\n",
       "      <th>...</th>\n",
       "      <td>...</td>\n",
       "      <td>...</td>\n",
       "    </tr>\n",
       "    <tr>\n",
       "      <th>128</th>\n",
       "      <td>13</td>\n",
       "      <td>Emotional reactivity and mortality: longitudin...</td>\n",
       "    </tr>\n",
       "    <tr>\n",
       "      <th>129</th>\n",
       "      <td>13</td>\n",
       "      <td>Openness to experience and mortality in men: a...</td>\n",
       "    </tr>\n",
       "    <tr>\n",
       "      <th>130</th>\n",
       "      <td>13</td>\n",
       "      <td>Do stress trajectories predict mortality in ol...</td>\n",
       "    </tr>\n",
       "    <tr>\n",
       "      <th>131</th>\n",
       "      <td>14</td>\n",
       "      <td>Do cherished children age successfully? longit...</td>\n",
       "    </tr>\n",
       "    <tr>\n",
       "      <th>132</th>\n",
       "      <td>14</td>\n",
       "      <td>The effects of daily co-occurrence of affect o...</td>\n",
       "    </tr>\n",
       "  </tbody>\n",
       "</table>\n",
       "<p>133 rows × 2 columns</p>\n",
       "</div>"
      ],
      "text/plain": [
       "     Edge Id                                        Publication\n",
       "0          1  Smoking-related DNA methylation is associated ...\n",
       "1          1  Lifestyle change and high-density lipoprotein ...\n",
       "2          1  Dietary anthocyanin intake and age-related dec...\n",
       "3          1  A western diet pattern is associated with high...\n",
       "4          1  Self-reported sleep and beta-amyloid depositio...\n",
       "..       ...                                                ...\n",
       "128       13  Emotional reactivity and mortality: longitudin...\n",
       "129       13  Openness to experience and mortality in men: a...\n",
       "130       13  Do stress trajectories predict mortality in ol...\n",
       "131       14  Do cherished children age successfully? longit...\n",
       "132       14  The effects of daily co-occurrence of affect o...\n",
       "\n",
       "[133 rows x 2 columns]"
      ]
     },
     "execution_count": 30,
     "metadata": {},
     "output_type": "execute_result"
    }
   ],
   "source": [
    "layer1_publist"
   ]
  },
  {
   "cell_type": "code",
   "execution_count": 31,
   "id": "abd97cb7",
   "metadata": {},
   "outputs": [],
   "source": [
    "pd.DataFrame.to_csv(layer1_publist,'layer1_publist_0325.csv')"
   ]
  }
 ],
 "metadata": {
  "kernelspec": {
   "display_name": "Python 3 (ipykernel)",
   "language": "python",
   "name": "python3"
  },
  "language_info": {
   "codemirror_mode": {
    "name": "ipython",
    "version": 3
   },
   "file_extension": ".py",
   "mimetype": "text/x-python",
   "name": "python",
   "nbconvert_exporter": "python",
   "pygments_lexer": "ipython3",
   "version": "3.9.7"
  }
 },
 "nbformat": 4,
 "nbformat_minor": 5
}

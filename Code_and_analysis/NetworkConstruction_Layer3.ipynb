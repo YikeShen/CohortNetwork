{
 "cells": [
  {
   "cell_type": "code",
   "execution_count": 1,
   "id": "794f994f",
   "metadata": {},
   "outputs": [],
   "source": [
    "import pandas as pd\n",
    "import numpy as np\n",
    "from collections import Counter,defaultdict\n",
    "import networkx as nx"
   ]
  },
  {
   "cell_type": "code",
   "execution_count": 2,
   "id": "2f5749df",
   "metadata": {},
   "outputs": [],
   "source": [
    "data = pd.read_csv('NAS_processed_032523.csv')"
   ]
  },
  {
   "cell_type": "markdown",
   "id": "0275afc7",
   "metadata": {},
   "source": [
    "## Clean up raw data and create network input dataframe"
   ]
  },
  {
   "cell_type": "code",
   "execution_count": 3,
   "id": "0eb324dd",
   "metadata": {},
   "outputs": [],
   "source": [
    "publications = data['Publication_Title']"
   ]
  },
  {
   "cell_type": "code",
   "execution_count": 4,
   "id": "20836769",
   "metadata": {},
   "outputs": [],
   "source": [
    "publications_list = []\n",
    "\n",
    "for v in publications:\n",
    "    try:\n",
    "        if float(v):\n",
    "            publications_list.append(temp)\n",
    "    except:\n",
    "        temp = v\n",
    "        publications_list.append(v)"
   ]
  },
  {
   "cell_type": "code",
   "execution_count": 5,
   "id": "3aeac7f0",
   "metadata": {},
   "outputs": [],
   "source": [
    "#Capitalize first word in each publication title\n",
    "publications_list_cap = []\n",
    "for v in publications_list:\n",
    "    first = v[0]\n",
    "    publications_list_cap.append(first.upper()+v[1:])"
   ]
  },
  {
   "cell_type": "code",
   "execution_count": 6,
   "id": "433803fa",
   "metadata": {},
   "outputs": [],
   "source": [
    "Exposure_Layer3 = data['Exposure_Layer3']"
   ]
  },
  {
   "cell_type": "code",
   "execution_count": 7,
   "id": "4b03e938",
   "metadata": {},
   "outputs": [],
   "source": [
    "Outcome_Layer3 = data['Outcome_Layer3']"
   ]
  },
  {
   "cell_type": "code",
   "execution_count": 8,
   "id": "2b9d3203",
   "metadata": {},
   "outputs": [],
   "source": [
    "hierach1 = defaultdict(set)\n",
    "edge2publication = defaultdict(list)\n",
    "for i,v in enumerate(Exposure_Layer3):\n",
    "    hierach1[v].add(Outcome_Layer3[i])\n",
    "    edge2publication[(v,Outcome_Layer3[i])].append(publications_list_cap[i])"
   ]
  },
  {
   "cell_type": "code",
   "execution_count": 9,
   "id": "141c162d",
   "metadata": {},
   "outputs": [],
   "source": [
    "intersection = set(Exposure_Layer3).intersection(set(Outcome_Layer3))"
   ]
  },
  {
   "cell_type": "code",
   "execution_count": 10,
   "id": "1070ad4c",
   "metadata": {},
   "outputs": [],
   "source": [
    "exposures_l3 = []\n",
    "outcomes_l3 = []\n",
    "exposure_cate = []\n",
    "outcome_cate = []\n",
    "edge_id2pub = dict()\n",
    "i = 1\n",
    "for k in sorted(hierach1.keys()): ###031823\n",
    "    for v in sorted(hierach1[k]):\n",
    "        exposures_l3.append(k)\n",
    "        outcomes_l3.append(v)\n",
    "        edge_id2pub[i] = edge2publication[(k,v)]\n",
    "        i+=1\n",
    "        if k not in intersection:\n",
    "            exposure_cate.append('exposures')\n",
    "        else:\n",
    "            exposure_cate.append('both')\n",
    "        if v not in intersection:\n",
    "            outcome_cate.append('outcomes')\n",
    "        else:\n",
    "            outcome_cate.append('both')"
   ]
  },
  {
   "cell_type": "code",
   "execution_count": 11,
   "id": "af31c4ec",
   "metadata": {},
   "outputs": [],
   "source": [
    "edge_id = np.arange(1,len(edge_id2pub)+1).tolist()"
   ]
  },
  {
   "cell_type": "code",
   "execution_count": 12,
   "id": "55466405",
   "metadata": {},
   "outputs": [],
   "source": [
    "layer3_dataframe = pd.DataFrame(list(zip(exposures_l3, outcomes_l3,edge_id,exposure_cate,outcome_cate)),columns =['Exposures', 'Outcomes','edge_id','exposure_cate','outcome_cate'])"
   ]
  },
  {
   "cell_type": "code",
   "execution_count": 13,
   "id": "66cbbb26",
   "metadata": {},
   "outputs": [
    {
     "data": {
      "text/html": [
       "<div>\n",
       "<style scoped>\n",
       "    .dataframe tbody tr th:only-of-type {\n",
       "        vertical-align: middle;\n",
       "    }\n",
       "\n",
       "    .dataframe tbody tr th {\n",
       "        vertical-align: top;\n",
       "    }\n",
       "\n",
       "    .dataframe thead th {\n",
       "        text-align: right;\n",
       "    }\n",
       "</style>\n",
       "<table border=\"1\" class=\"dataframe\">\n",
       "  <thead>\n",
       "    <tr style=\"text-align: right;\">\n",
       "      <th></th>\n",
       "      <th>Exposures</th>\n",
       "      <th>Outcomes</th>\n",
       "      <th>edge_id</th>\n",
       "      <th>exposure_cate</th>\n",
       "      <th>outcome_cate</th>\n",
       "    </tr>\n",
       "  </thead>\n",
       "  <tbody>\n",
       "    <tr>\n",
       "      <th>0</th>\n",
       "      <td>APOE genetic variants</td>\n",
       "      <td>MMSE score</td>\n",
       "      <td>1</td>\n",
       "      <td>exposures</td>\n",
       "      <td>outcomes</td>\n",
       "    </tr>\n",
       "    <tr>\n",
       "      <th>1</th>\n",
       "      <td>BMI</td>\n",
       "      <td>high-density lipoprotein cholesterol</td>\n",
       "      <td>2</td>\n",
       "      <td>exposures</td>\n",
       "      <td>both</td>\n",
       "    </tr>\n",
       "    <tr>\n",
       "      <th>2</th>\n",
       "      <td>HFE gene</td>\n",
       "      <td>toenail cadmium</td>\n",
       "      <td>3</td>\n",
       "      <td>exposures</td>\n",
       "      <td>both</td>\n",
       "    </tr>\n",
       "    <tr>\n",
       "      <th>3</th>\n",
       "      <td>aging clocks</td>\n",
       "      <td>FEV1</td>\n",
       "      <td>4</td>\n",
       "      <td>both</td>\n",
       "      <td>outcomes</td>\n",
       "    </tr>\n",
       "    <tr>\n",
       "      <th>4</th>\n",
       "      <td>aging clocks</td>\n",
       "      <td>FEV1/FVC</td>\n",
       "      <td>5</td>\n",
       "      <td>both</td>\n",
       "      <td>outcomes</td>\n",
       "    </tr>\n",
       "    <tr>\n",
       "      <th>...</th>\n",
       "      <td>...</td>\n",
       "      <td>...</td>\n",
       "      <td>...</td>\n",
       "      <td>...</td>\n",
       "      <td>...</td>\n",
       "    </tr>\n",
       "    <tr>\n",
       "      <th>389</th>\n",
       "      <td>vitamin E intake</td>\n",
       "      <td>FEV1</td>\n",
       "      <td>390</td>\n",
       "      <td>exposures</td>\n",
       "      <td>outcomes</td>\n",
       "    </tr>\n",
       "    <tr>\n",
       "      <th>390</th>\n",
       "      <td>vitamin E intake</td>\n",
       "      <td>FVC</td>\n",
       "      <td>391</td>\n",
       "      <td>exposures</td>\n",
       "      <td>outcomes</td>\n",
       "    </tr>\n",
       "    <tr>\n",
       "      <th>391</th>\n",
       "      <td>western diet</td>\n",
       "      <td>blood lead</td>\n",
       "      <td>392</td>\n",
       "      <td>exposures</td>\n",
       "      <td>both</td>\n",
       "    </tr>\n",
       "    <tr>\n",
       "      <th>392</th>\n",
       "      <td>western diet</td>\n",
       "      <td>patella lead</td>\n",
       "      <td>393</td>\n",
       "      <td>exposures</td>\n",
       "      <td>both</td>\n",
       "    </tr>\n",
       "    <tr>\n",
       "      <th>393</th>\n",
       "      <td>western diet</td>\n",
       "      <td>tibia lead</td>\n",
       "      <td>394</td>\n",
       "      <td>exposures</td>\n",
       "      <td>both</td>\n",
       "    </tr>\n",
       "  </tbody>\n",
       "</table>\n",
       "<p>394 rows × 5 columns</p>\n",
       "</div>"
      ],
      "text/plain": [
       "                 Exposures                              Outcomes  edge_id  \\\n",
       "0    APOE genetic variants                            MMSE score        1   \n",
       "1                      BMI  high-density lipoprotein cholesterol        2   \n",
       "2                 HFE gene                       toenail cadmium        3   \n",
       "3             aging clocks                                  FEV1        4   \n",
       "4             aging clocks                              FEV1/FVC        5   \n",
       "..                     ...                                   ...      ...   \n",
       "389       vitamin E intake                                  FEV1      390   \n",
       "390       vitamin E intake                                   FVC      391   \n",
       "391           western diet                            blood lead      392   \n",
       "392           western diet                          patella lead      393   \n",
       "393           western diet                            tibia lead      394   \n",
       "\n",
       "    exposure_cate outcome_cate  \n",
       "0       exposures     outcomes  \n",
       "1       exposures         both  \n",
       "2       exposures         both  \n",
       "3            both     outcomes  \n",
       "4            both     outcomes  \n",
       "..            ...          ...  \n",
       "389     exposures     outcomes  \n",
       "390     exposures     outcomes  \n",
       "391     exposures         both  \n",
       "392     exposures         both  \n",
       "393     exposures         both  \n",
       "\n",
       "[394 rows x 5 columns]"
      ]
     },
     "execution_count": 13,
     "metadata": {},
     "output_type": "execute_result"
    }
   ],
   "source": [
    "layer3_dataframe"
   ]
  },
  {
   "cell_type": "code",
   "execution_count": 14,
   "id": "726d3004",
   "metadata": {},
   "outputs": [],
   "source": [
    "pd.DataFrame.to_csv(layer3_dataframe,'processed_graph_layer3.csv')"
   ]
  },
  {
   "cell_type": "markdown",
   "id": "6d02147c",
   "metadata": {},
   "source": [
    "## Create edge number to publication list"
   ]
  },
  {
   "cell_type": "code",
   "execution_count": 15,
   "id": "20ebbd94",
   "metadata": {},
   "outputs": [],
   "source": [
    "edg_list = []\n",
    "pub_list = []\n",
    "for k in range(1,len(edge_id2pub)+1):\n",
    "    for v in set(edge_id2pub[k]):\n",
    "        edg_list.append(k)\n",
    "        pub_list.append(v)\n",
    "    "
   ]
  },
  {
   "cell_type": "code",
   "execution_count": 16,
   "id": "377f0e35",
   "metadata": {},
   "outputs": [],
   "source": [
    "layer3_publist = pd.DataFrame(list(zip(edg_list, pub_list)),columns =['Edge Id', 'Publication'])"
   ]
  },
  {
   "cell_type": "code",
   "execution_count": 17,
   "id": "62f1a7fa",
   "metadata": {},
   "outputs": [
    {
     "data": {
      "text/html": [
       "<div>\n",
       "<style scoped>\n",
       "    .dataframe tbody tr th:only-of-type {\n",
       "        vertical-align: middle;\n",
       "    }\n",
       "\n",
       "    .dataframe tbody tr th {\n",
       "        vertical-align: top;\n",
       "    }\n",
       "\n",
       "    .dataframe thead th {\n",
       "        text-align: right;\n",
       "    }\n",
       "</style>\n",
       "<table border=\"1\" class=\"dataframe\">\n",
       "  <thead>\n",
       "    <tr style=\"text-align: right;\">\n",
       "      <th></th>\n",
       "      <th>Edge Id</th>\n",
       "      <th>Publication</th>\n",
       "    </tr>\n",
       "  </thead>\n",
       "  <tbody>\n",
       "    <tr>\n",
       "      <th>0</th>\n",
       "      <td>1</td>\n",
       "      <td>Influence of multiple APOE genetic variants on...</td>\n",
       "    </tr>\n",
       "    <tr>\n",
       "      <th>1</th>\n",
       "      <td>2</td>\n",
       "      <td>Lifestyle change and high-density lipoprotein ...</td>\n",
       "    </tr>\n",
       "    <tr>\n",
       "      <th>2</th>\n",
       "      <td>3</td>\n",
       "      <td>Iron-processing genotypes, nutrient intakes, a...</td>\n",
       "    </tr>\n",
       "    <tr>\n",
       "      <th>3</th>\n",
       "      <td>4</td>\n",
       "      <td>Biomarkers of aging and lung function in the N...</td>\n",
       "    </tr>\n",
       "    <tr>\n",
       "      <th>4</th>\n",
       "      <td>5</td>\n",
       "      <td>Biomarkers of aging and lung function in the N...</td>\n",
       "    </tr>\n",
       "    <tr>\n",
       "      <th>...</th>\n",
       "      <td>...</td>\n",
       "      <td>...</td>\n",
       "    </tr>\n",
       "    <tr>\n",
       "      <th>423</th>\n",
       "      <td>390</td>\n",
       "      <td>Serum tocopherol levels and vitamin e intake a...</td>\n",
       "    </tr>\n",
       "    <tr>\n",
       "      <th>424</th>\n",
       "      <td>391</td>\n",
       "      <td>Serum tocopherol levels and vitamin e intake a...</td>\n",
       "    </tr>\n",
       "    <tr>\n",
       "      <th>425</th>\n",
       "      <td>392</td>\n",
       "      <td>A western diet pattern is associated with high...</td>\n",
       "    </tr>\n",
       "    <tr>\n",
       "      <th>426</th>\n",
       "      <td>393</td>\n",
       "      <td>A western diet pattern is associated with high...</td>\n",
       "    </tr>\n",
       "    <tr>\n",
       "      <th>427</th>\n",
       "      <td>394</td>\n",
       "      <td>A western diet pattern is associated with high...</td>\n",
       "    </tr>\n",
       "  </tbody>\n",
       "</table>\n",
       "<p>428 rows × 2 columns</p>\n",
       "</div>"
      ],
      "text/plain": [
       "     Edge Id                                        Publication\n",
       "0          1  Influence of multiple APOE genetic variants on...\n",
       "1          2  Lifestyle change and high-density lipoprotein ...\n",
       "2          3  Iron-processing genotypes, nutrient intakes, a...\n",
       "3          4  Biomarkers of aging and lung function in the N...\n",
       "4          5  Biomarkers of aging and lung function in the N...\n",
       "..       ...                                                ...\n",
       "423      390  Serum tocopherol levels and vitamin e intake a...\n",
       "424      391  Serum tocopherol levels and vitamin e intake a...\n",
       "425      392  A western diet pattern is associated with high...\n",
       "426      393  A western diet pattern is associated with high...\n",
       "427      394  A western diet pattern is associated with high...\n",
       "\n",
       "[428 rows x 2 columns]"
      ]
     },
     "execution_count": 17,
     "metadata": {},
     "output_type": "execute_result"
    }
   ],
   "source": [
    "layer3_publist"
   ]
  },
  {
   "cell_type": "code",
   "execution_count": 18,
   "id": "fe592f9e",
   "metadata": {},
   "outputs": [],
   "source": [
    "pd.DataFrame.to_csv(layer3_publist,'layer3_publist.csv')"
   ]
  }
 ],
 "metadata": {
  "kernelspec": {
   "display_name": "Python 3 (ipykernel)",
   "language": "python",
   "name": "python3"
  },
  "language_info": {
   "codemirror_mode": {
    "name": "ipython",
    "version": 3
   },
   "file_extension": ".py",
   "mimetype": "text/x-python",
   "name": "python",
   "nbconvert_exporter": "python",
   "pygments_lexer": "ipython3",
   "version": "3.9.7"
  }
 },
 "nbformat": 4,
 "nbformat_minor": 5
}
